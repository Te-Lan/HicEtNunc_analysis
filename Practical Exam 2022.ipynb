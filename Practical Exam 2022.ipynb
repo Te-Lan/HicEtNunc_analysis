{
 "cells": [
  {
   "cell_type": "code",
   "execution_count": 1,
   "id": "a5cb160f",
   "metadata": {},
   "outputs": [],
   "source": [
    "import pandas as pd\n",
    "import numpy as np\n",
    "import matplotlib.pyplot as plt\n",
    "\n",
    "#Show max 100 columns or rows\n",
    "pd.set_option('display.max_rows', 100)\n",
    "pd.set_option('display.max_columns', 100)\n",
    "#Dont use scientific notation for numbers (e.g 1.003767687e-12)\n",
    "pd.set_option('display.float_format','{:.5f}'.format)\n",
    "np.set_printoptions(suppress=True)"
   ]
  },
  {
   "cell_type": "code",
   "execution_count": 28,
   "id": "1977e313",
   "metadata": {},
   "outputs": [],
   "source": [
    "# Load in datasets and create cpoies of them\n",
    "\n",
    "users = pd.read_csv(\"nft_users.csv\", parse_dates=[\"first_action_iso_date\"])\n",
    "artworks = pd.read_csv(\"nft_items.csv\", parse_dates=[\"mint_iso_date\"])\n",
    "df_user = users\n",
    "df_art = artworks"
   ]
  },
  {
   "cell_type": "markdown",
   "id": "8ab3355f-e99d-40dd-97bb-f7170e2897d1",
   "metadata": {},
   "source": [
    "## 0.0 An overview of datasets"
   ]
  },
  {
   "cell_type": "markdown",
   "id": "892649e6-e005-4cc2-8753-723a269df9b8",
   "metadata": {},
   "source": [
    "### 0.1 How many piece of records in both datasets?"
   ]
  },
  {
   "cell_type": "code",
   "execution_count": null,
   "id": "a48d152c-76ec-43ce-bf1b-07d287d740ae",
   "metadata": {},
   "outputs": [
    {
     "name": "stdout",
     "output_type": "stream",
     "text": [
      "37420 artworks and 6726 users\n"
     ]
    }
   ],
   "source": [
    "print(str(len(artworks)) + \" artworks and\", str(len(users)), \"users\")"
   ]
  },
  {
   "cell_type": "markdown",
   "id": "9dcebada-6ad7-48fa-a0d0-c51de0b85733",
   "metadata": {},
   "source": [
    "### 0.2 What are the information documented in both datasets?"
   ]
  },
  {
   "cell_type": "code",
   "execution_count": 39,
   "id": "b60bd370-f8f6-40d6-8f8d-14889590b666",
   "metadata": {},
   "outputs": [
    {
     "name": "stdout",
     "output_type": "stream",
     "text": [
      "Information about users:\n",
      "['address', 'first_action_iso_date', 'tzkt_info_name', 'mint_count', 'bought_count', 'bought_prices_avg', 'author_sold_count', 'author_sold_prices_avg', 'secondary_sold_count', 'secondary_sold_prices_avg', 'available_count', 'available_prices_avg', 'money_received', 'money_sent', 'ratio']\n",
      "------\n",
      "Example of users data:\n",
      "address                      tz1Qw7r9P5NDVm7KwAKQGFXGPpqH5RgDPYQx\n",
      "first_action_iso_date                   2021-03-01 14:33:27+00:00\n",
      "tzkt_info_name                                                NaN\n",
      "mint_count                                                    233\n",
      "bought_count                                                   56\n",
      "bought_prices_avg                                        13.94444\n",
      "author_sold_count                                               2\n",
      "author_sold_prices_avg                                    2.55000\n",
      "secondary_sold_count                                            0\n",
      "secondary_sold_prices_avg                                 0.00000\n",
      "available_count                                               164\n",
      "available_prices_avg                                      1.70610\n",
      "money_received                                            4.97250\n",
      "money_sent                                              376.50000\n",
      "ratio                                                         inf\n",
      "Name: 18, dtype: object\n",
      "------\n",
      "Inforamtion about artworks:\n",
      "['token_id', 'issuer', 'mint_iso_date', 'artifact_mime', 'artifact_file_size', 'artifact_preview_width', 'artifact_preview_height', 'info_title', 'info_description', 'info_tags', 'ban_status', 'author_sold_prices_avg', 'author_sold_count', 'secondary_sold_count', 'secondary_sold_prices_avg']\n",
      "------\n",
      "Example of artworks data:\n",
      "token_id                                                      152\n",
      "issuer                       tz1UBZUkXpKGhYsP5KtzDNqLLchwF4uHrGjw\n",
      "mint_iso_date                           2021-03-01 03:39:21+00:00\n",
      "artifact_mime                                           image/gif\n",
      "artifact_file_size                                        2043418\n",
      "artifact_preview_width                                       1024\n",
      "artifact_preview_height                                      1024\n",
      "info_title                                                   hDAO\n",
      "info_description                                              NaN\n",
      "info_tags                                                     NaN\n",
      "ban_status                                                    NaN\n",
      "author_sold_prices_avg                                    0.00000\n",
      "author_sold_count                                               0\n",
      "secondary_sold_count                                            0\n",
      "secondary_sold_prices_avg                                 0.00000\n",
      "Name: 0, dtype: object\n"
     ]
    }
   ],
   "source": [
    "# Have a look at column names to get an overview of variables, and also check single piece of data from both datasets\n",
    "\n",
    "print(\"Information about users:\")\n",
    "print(users.columns.tolist())\n",
    "print(\"------\")\n",
    "print(\"Example of users data:\")\n",
    "print(users.iloc[18])\n",
    "print(\"------\")\n",
    "print(\"Inforamtion about artworks:\")\n",
    "print(artworks.columns.tolist())\n",
    "print(\"------\")\n",
    "print(\"Example of artworks data:\")\n",
    "print(artworks.iloc[0])"
   ]
  },
  {
   "cell_type": "markdown",
   "id": "b9ebbd74-0d05-44da-863e-03a226829fbc",
   "metadata": {
    "tags": []
   },
   "source": [
    "### 0.3 Is there a need to rescale or format any variable?\n",
    "\n",
    "----\n",
    "\n",
    "Most of the data are documented in numeric variables, except categorial data like `artifact_mime`, and continious data like `fisrt_action_iso_date` and `mint_iso_date` in different type. We'll look at the actual questions to see if they need to be formatted."
   ]
  },
  {
   "cell_type": "code",
   "execution_count": 38,
   "id": "121cf56d-153a-4322-b2ec-48186f48412e",
   "metadata": {},
   "outputs": [
    {
     "data": {
      "text/plain": [
       "address                                   object\n",
       "first_action_iso_date        datetime64[ns, UTC]\n",
       "tzkt_info_name                            object\n",
       "mint_count                                 int64\n",
       "bought_count                               int64\n",
       "bought_prices_avg                        float64\n",
       "author_sold_count                          int64\n",
       "author_sold_prices_avg                   float64\n",
       "secondary_sold_count                       int64\n",
       "secondary_sold_prices_avg                float64\n",
       "available_count                            int64\n",
       "available_prices_avg                     float64\n",
       "money_received                           float64\n",
       "money_sent                               float64\n",
       "ratio                                    float64\n",
       "dtype: object"
      ]
     },
     "execution_count": 38,
     "metadata": {},
     "output_type": "execute_result"
    }
   ],
   "source": [
    "users.dtypes"
   ]
  },
  {
   "cell_type": "code",
   "execution_count": 42,
   "id": "08dc8f05-c2c8-4ef2-a2a5-64df46c03e36",
   "metadata": {},
   "outputs": [
    {
     "data": {
      "text/plain": [
       "token_id                                   int64\n",
       "issuer                                    object\n",
       "mint_iso_date                datetime64[ns, UTC]\n",
       "artifact_mime                             object\n",
       "artifact_file_size                         int64\n",
       "artifact_preview_width                     int64\n",
       "artifact_preview_height                    int64\n",
       "info_title                                object\n",
       "info_description                          object\n",
       "info_tags                                 object\n",
       "ban_status                                object\n",
       "author_sold_prices_avg                   float64\n",
       "author_sold_count                          int64\n",
       "secondary_sold_count                       int64\n",
       "secondary_sold_prices_avg                float64\n",
       "dtype: object"
      ]
     },
     "execution_count": 42,
     "metadata": {},
     "output_type": "execute_result"
    }
   ],
   "source": [
    "artworks.dtypes"
   ]
  },
  {
   "cell_type": "markdown",
   "id": "8a4d2ae0-90fc-4af4-8b70-e892d213be7d",
   "metadata": {},
   "source": [
    "### 0.4 Missing data?\n",
    "\n",
    "----\n",
    "\n",
    "In user dataset:\n",
    " - 4811 pieces of `tzkt_info_name` data are missing. It's about users' other accounts on other platforms, which does not affect the integrity of dataset.\n",
    " - 4100 pieces of `ratio` data are missing. It can be assumed that some users may never receive or send any money on this platform.\n",
    " \n",
    "In artworks dataset:\n",
    " - 12 artworks do not have `artifact_mime` record, suggesting unknown filetype of which.\n",
    " - A distinctive number of `info_title`, `infor_description`, `info_tags` are missed. It may not have significant negaive effect on analysis, but could be challenging to track back into certain artwork.\n",
    " - The huge number of missing `ban_status` may refer to the labelling method that only banned artworks will be marked as \"banned\"."
   ]
  },
  {
   "cell_type": "code",
   "execution_count": 54,
   "id": "590ed8b1-69cb-4f0d-bdf0-038c799b127a",
   "metadata": {},
   "outputs": [
    {
     "name": "stdout",
     "output_type": "stream",
     "text": [
      "Missing data in user dataset:\n",
      "address                         0\n",
      "first_action_iso_date           0\n",
      "tzkt_info_name               4811\n",
      "mint_count                      0\n",
      "bought_count                    0\n",
      "bought_prices_avg               0\n",
      "author_sold_count               0\n",
      "author_sold_prices_avg          0\n",
      "secondary_sold_count            0\n",
      "secondary_sold_prices_avg       0\n",
      "available_count                 0\n",
      "available_prices_avg            0\n",
      "money_received                  0\n",
      "money_sent                      0\n",
      "ratio                        4100\n",
      "dtype: int64\n",
      "------\n",
      "Missing data in artworks dataset:\n",
      "token_id                         0\n",
      "issuer                           0\n",
      "mint_iso_date                    0\n",
      "artifact_mime                   12\n",
      "artifact_file_size               0\n",
      "artifact_preview_width           0\n",
      "artifact_preview_height          0\n",
      "info_title                     331\n",
      "info_description              1567\n",
      "info_tags                     3828\n",
      "ban_status                   35523\n",
      "author_sold_prices_avg           0\n",
      "author_sold_count                0\n",
      "secondary_sold_count             0\n",
      "secondary_sold_prices_avg        0\n",
      "dtype: int64\n"
     ]
    }
   ],
   "source": [
    "print(\"Missing data in user dataset:\")\n",
    "print(users.isna().sum())\n",
    "print(\"------\")\n",
    "print(\"Missing data in artworks dataset:\")\n",
    "print(artworks.isna().sum())"
   ]
  },
  {
   "cell_type": "markdown",
   "id": "abe87155-af9b-482c-ab74-8ca742296c28",
   "metadata": {},
   "source": [
    "### 0.5 Detailed description of all the data\n",
    "\n",
    "----\n",
    "\n",
    "Description of both user dataset and artworks dataset are presented togather in the table below. This can help understanding the overall distrbution of every variable, and also suggesting the plot methods(discussed in specific section)."
   ]
  },
  {
   "cell_type": "code",
   "execution_count": 56,
   "id": "94470896-ff00-4b48-80a5-cd4cdb475b07",
   "metadata": {},
   "outputs": [
    {
     "name": "stderr",
     "output_type": "stream",
     "text": [
      "/Users/randgrant/opt/anaconda3/lib/python3.9/site-packages/numpy/lib/function_base.py:3961: RuntimeWarning: invalid value encountered in subtract\n",
      "  diff_b_a = subtract(b, a)\n"
     ]
    },
    {
     "data": {
      "text/html": [
       "<div>\n",
       "<style scoped>\n",
       "    .dataframe tbody tr th:only-of-type {\n",
       "        vertical-align: middle;\n",
       "    }\n",
       "\n",
       "    .dataframe tbody tr th {\n",
       "        vertical-align: top;\n",
       "    }\n",
       "\n",
       "    .dataframe thead th {\n",
       "        text-align: right;\n",
       "    }\n",
       "</style>\n",
       "<table border=\"1\" class=\"dataframe\">\n",
       "  <thead>\n",
       "    <tr style=\"text-align: right;\">\n",
       "      <th></th>\n",
       "      <th>count</th>\n",
       "      <th>mean</th>\n",
       "      <th>std</th>\n",
       "      <th>min</th>\n",
       "      <th>25%</th>\n",
       "      <th>50%</th>\n",
       "      <th>75%</th>\n",
       "      <th>max</th>\n",
       "    </tr>\n",
       "  </thead>\n",
       "  <tbody>\n",
       "    <tr>\n",
       "      <th>mint_count</th>\n",
       "      <td>6726.00000</td>\n",
       "      <td>300.14020</td>\n",
       "      <td>1867.99847</td>\n",
       "      <td>0.00000</td>\n",
       "      <td>0.00000</td>\n",
       "      <td>10.00000</td>\n",
       "      <td>97.75000</td>\n",
       "      <td>78480.00000</td>\n",
       "    </tr>\n",
       "    <tr>\n",
       "      <th>bought_count</th>\n",
       "      <td>6726.00000</td>\n",
       "      <td>17.37169</td>\n",
       "      <td>82.52887</td>\n",
       "      <td>0.00000</td>\n",
       "      <td>0.00000</td>\n",
       "      <td>1.00000</td>\n",
       "      <td>8.00000</td>\n",
       "      <td>4199.00000</td>\n",
       "    </tr>\n",
       "    <tr>\n",
       "      <th>bought_prices_avg</th>\n",
       "      <td>6726.00000</td>\n",
       "      <td>4.96384</td>\n",
       "      <td>147.94554</td>\n",
       "      <td>0.00000</td>\n",
       "      <td>0.00000</td>\n",
       "      <td>0.20442</td>\n",
       "      <td>2.00000</td>\n",
       "      <td>11500.00000</td>\n",
       "    </tr>\n",
       "    <tr>\n",
       "      <th>author_sold_count</th>\n",
       "      <td>6726.00000</td>\n",
       "      <td>17.26777</td>\n",
       "      <td>72.32401</td>\n",
       "      <td>0.00000</td>\n",
       "      <td>0.00000</td>\n",
       "      <td>0.00000</td>\n",
       "      <td>4.00000</td>\n",
       "      <td>2348.00000</td>\n",
       "    </tr>\n",
       "    <tr>\n",
       "      <th>author_sold_prices_avg</th>\n",
       "      <td>6726.00000</td>\n",
       "      <td>5.60140</td>\n",
       "      <td>140.76978</td>\n",
       "      <td>0.00000</td>\n",
       "      <td>0.00000</td>\n",
       "      <td>0.00000</td>\n",
       "      <td>1.00000</td>\n",
       "      <td>10000.00000</td>\n",
       "    </tr>\n",
       "    <tr>\n",
       "      <th>secondary_sold_count</th>\n",
       "      <td>6726.00000</td>\n",
       "      <td>0.40946</td>\n",
       "      <td>3.49909</td>\n",
       "      <td>0.00000</td>\n",
       "      <td>0.00000</td>\n",
       "      <td>0.00000</td>\n",
       "      <td>0.00000</td>\n",
       "      <td>175.00000</td>\n",
       "    </tr>\n",
       "    <tr>\n",
       "      <th>secondary_sold_prices_avg</th>\n",
       "      <td>6726.00000</td>\n",
       "      <td>0.93909</td>\n",
       "      <td>20.97999</td>\n",
       "      <td>0.00000</td>\n",
       "      <td>0.00000</td>\n",
       "      <td>0.00000</td>\n",
       "      <td>0.00000</td>\n",
       "      <td>1337.00000</td>\n",
       "    </tr>\n",
       "    <tr>\n",
       "      <th>available_count</th>\n",
       "      <td>6726.00000</td>\n",
       "      <td>146.26702</td>\n",
       "      <td>1141.80086</td>\n",
       "      <td>0.00000</td>\n",
       "      <td>0.00000</td>\n",
       "      <td>4.00000</td>\n",
       "      <td>38.00000</td>\n",
       "      <td>52272.00000</td>\n",
       "    </tr>\n",
       "    <tr>\n",
       "      <th>available_prices_avg</th>\n",
       "      <td>6726.00000</td>\n",
       "      <td>5581.71141</td>\n",
       "      <td>181820.76521</td>\n",
       "      <td>0.00000</td>\n",
       "      <td>0.00000</td>\n",
       "      <td>1.01536</td>\n",
       "      <td>5.00000</td>\n",
       "      <td>10000000.00000</td>\n",
       "    </tr>\n",
       "    <tr>\n",
       "      <th>money_received</th>\n",
       "      <td>6726.00000</td>\n",
       "      <td>209.26210</td>\n",
       "      <td>8559.27311</td>\n",
       "      <td>0.00000</td>\n",
       "      <td>0.00000</td>\n",
       "      <td>0.00000</td>\n",
       "      <td>7.51434</td>\n",
       "      <td>685298.72912</td>\n",
       "    </tr>\n",
       "    <tr>\n",
       "      <th>money_sent</th>\n",
       "      <td>6726.00000</td>\n",
       "      <td>209.26210</td>\n",
       "      <td>8991.22562</td>\n",
       "      <td>0.00000</td>\n",
       "      <td>0.00000</td>\n",
       "      <td>0.90000</td>\n",
       "      <td>11.45000</td>\n",
       "      <td>679104.27599</td>\n",
       "    </tr>\n",
       "    <tr>\n",
       "      <th>ratio</th>\n",
       "      <td>2626.00000</td>\n",
       "      <td>inf</td>\n",
       "      <td>NaN</td>\n",
       "      <td>0.00000</td>\n",
       "      <td>NaN</td>\n",
       "      <td>NaN</td>\n",
       "      <td>NaN</td>\n",
       "      <td>inf</td>\n",
       "    </tr>\n",
       "    <tr>\n",
       "      <th>token_id</th>\n",
       "      <td>37420.00000</td>\n",
       "      <td>18861.50000</td>\n",
       "      <td>10802.36787</td>\n",
       "      <td>152.00000</td>\n",
       "      <td>9506.75000</td>\n",
       "      <td>18861.50000</td>\n",
       "      <td>28216.25000</td>\n",
       "      <td>37571.00000</td>\n",
       "    </tr>\n",
       "    <tr>\n",
       "      <th>artifact_file_size</th>\n",
       "      <td>37420.00000</td>\n",
       "      <td>6606179.70144</td>\n",
       "      <td>10103852.74427</td>\n",
       "      <td>-1.00000</td>\n",
       "      <td>440667.75000</td>\n",
       "      <td>2241887.00000</td>\n",
       "      <td>7581125.50000</td>\n",
       "      <td>99913564.00000</td>\n",
       "    </tr>\n",
       "    <tr>\n",
       "      <th>artifact_preview_width</th>\n",
       "      <td>37420.00000</td>\n",
       "      <td>903.84097</td>\n",
       "      <td>238.58679</td>\n",
       "      <td>-1.00000</td>\n",
       "      <td>819.00000</td>\n",
       "      <td>1024.00000</td>\n",
       "      <td>1024.00000</td>\n",
       "      <td>1024.00000</td>\n",
       "    </tr>\n",
       "    <tr>\n",
       "      <th>artifact_preview_height</th>\n",
       "      <td>37420.00000</td>\n",
       "      <td>878.59947</td>\n",
       "      <td>257.63035</td>\n",
       "      <td>-1.00000</td>\n",
       "      <td>768.00000</td>\n",
       "      <td>1024.00000</td>\n",
       "      <td>1024.00000</td>\n",
       "      <td>1820.00000</td>\n",
       "    </tr>\n",
       "    <tr>\n",
       "      <th>author_sold_prices_avg</th>\n",
       "      <td>37420.00000</td>\n",
       "      <td>4.90102</td>\n",
       "      <td>91.60558</td>\n",
       "      <td>0.00000</td>\n",
       "      <td>0.00000</td>\n",
       "      <td>0.00000</td>\n",
       "      <td>1.00000</td>\n",
       "      <td>11500.00000</td>\n",
       "    </tr>\n",
       "    <tr>\n",
       "      <th>author_sold_count</th>\n",
       "      <td>37420.00000</td>\n",
       "      <td>1.88076</td>\n",
       "      <td>8.01737</td>\n",
       "      <td>0.00000</td>\n",
       "      <td>0.00000</td>\n",
       "      <td>0.00000</td>\n",
       "      <td>1.00000</td>\n",
       "      <td>727.00000</td>\n",
       "    </tr>\n",
       "    <tr>\n",
       "      <th>secondary_sold_count</th>\n",
       "      <td>37420.00000</td>\n",
       "      <td>0.07288</td>\n",
       "      <td>0.89289</td>\n",
       "      <td>0.00000</td>\n",
       "      <td>0.00000</td>\n",
       "      <td>0.00000</td>\n",
       "      <td>0.00000</td>\n",
       "      <td>109.00000</td>\n",
       "    </tr>\n",
       "    <tr>\n",
       "      <th>secondary_sold_prices_avg</th>\n",
       "      <td>37420.00000</td>\n",
       "      <td>0.50494</td>\n",
       "      <td>11.00607</td>\n",
       "      <td>0.00000</td>\n",
       "      <td>0.00000</td>\n",
       "      <td>0.00000</td>\n",
       "      <td>0.00000</td>\n",
       "      <td>1337.00000</td>\n",
       "    </tr>\n",
       "  </tbody>\n",
       "</table>\n",
       "</div>"
      ],
      "text/plain": [
       "                                count          mean            std       min  \\\n",
       "mint_count                 6726.00000     300.14020     1867.99847   0.00000   \n",
       "bought_count               6726.00000      17.37169       82.52887   0.00000   \n",
       "bought_prices_avg          6726.00000       4.96384      147.94554   0.00000   \n",
       "author_sold_count          6726.00000      17.26777       72.32401   0.00000   \n",
       "author_sold_prices_avg     6726.00000       5.60140      140.76978   0.00000   \n",
       "secondary_sold_count       6726.00000       0.40946        3.49909   0.00000   \n",
       "secondary_sold_prices_avg  6726.00000       0.93909       20.97999   0.00000   \n",
       "available_count            6726.00000     146.26702     1141.80086   0.00000   \n",
       "available_prices_avg       6726.00000    5581.71141   181820.76521   0.00000   \n",
       "money_received             6726.00000     209.26210     8559.27311   0.00000   \n",
       "money_sent                 6726.00000     209.26210     8991.22562   0.00000   \n",
       "ratio                      2626.00000           inf            NaN   0.00000   \n",
       "token_id                  37420.00000   18861.50000    10802.36787 152.00000   \n",
       "artifact_file_size        37420.00000 6606179.70144 10103852.74427  -1.00000   \n",
       "artifact_preview_width    37420.00000     903.84097      238.58679  -1.00000   \n",
       "artifact_preview_height   37420.00000     878.59947      257.63035  -1.00000   \n",
       "author_sold_prices_avg    37420.00000       4.90102       91.60558   0.00000   \n",
       "author_sold_count         37420.00000       1.88076        8.01737   0.00000   \n",
       "secondary_sold_count      37420.00000       0.07288        0.89289   0.00000   \n",
       "secondary_sold_prices_avg 37420.00000       0.50494       11.00607   0.00000   \n",
       "\n",
       "                                   25%           50%           75%  \\\n",
       "mint_count                     0.00000      10.00000      97.75000   \n",
       "bought_count                   0.00000       1.00000       8.00000   \n",
       "bought_prices_avg              0.00000       0.20442       2.00000   \n",
       "author_sold_count              0.00000       0.00000       4.00000   \n",
       "author_sold_prices_avg         0.00000       0.00000       1.00000   \n",
       "secondary_sold_count           0.00000       0.00000       0.00000   \n",
       "secondary_sold_prices_avg      0.00000       0.00000       0.00000   \n",
       "available_count                0.00000       4.00000      38.00000   \n",
       "available_prices_avg           0.00000       1.01536       5.00000   \n",
       "money_received                 0.00000       0.00000       7.51434   \n",
       "money_sent                     0.00000       0.90000      11.45000   \n",
       "ratio                              NaN           NaN           NaN   \n",
       "token_id                    9506.75000   18861.50000   28216.25000   \n",
       "artifact_file_size        440667.75000 2241887.00000 7581125.50000   \n",
       "artifact_preview_width       819.00000    1024.00000    1024.00000   \n",
       "artifact_preview_height      768.00000    1024.00000    1024.00000   \n",
       "author_sold_prices_avg         0.00000       0.00000       1.00000   \n",
       "author_sold_count              0.00000       0.00000       1.00000   \n",
       "secondary_sold_count           0.00000       0.00000       0.00000   \n",
       "secondary_sold_prices_avg      0.00000       0.00000       0.00000   \n",
       "\n",
       "                                     max  \n",
       "mint_count                   78480.00000  \n",
       "bought_count                  4199.00000  \n",
       "bought_prices_avg            11500.00000  \n",
       "author_sold_count             2348.00000  \n",
       "author_sold_prices_avg       10000.00000  \n",
       "secondary_sold_count           175.00000  \n",
       "secondary_sold_prices_avg     1337.00000  \n",
       "available_count              52272.00000  \n",
       "available_prices_avg      10000000.00000  \n",
       "money_received              685298.72912  \n",
       "money_sent                  679104.27599  \n",
       "ratio                                inf  \n",
       "token_id                     37571.00000  \n",
       "artifact_file_size        99913564.00000  \n",
       "artifact_preview_width        1024.00000  \n",
       "artifact_preview_height       1820.00000  \n",
       "author_sold_prices_avg       11500.00000  \n",
       "author_sold_count              727.00000  \n",
       "secondary_sold_count           109.00000  \n",
       "secondary_sold_prices_avg     1337.00000  "
      ]
     },
     "execution_count": 56,
     "metadata": {},
     "output_type": "execute_result"
    }
   ],
   "source": [
    "users.describe().T.append(artworks.describe().T)"
   ]
  },
  {
   "cell_type": "markdown",
   "id": "72034884-ff29-4cd5-b48c-17b8084f3d8d",
   "metadata": {},
   "source": [
    "## 1.0 Analysis on Users dataset"
   ]
  },
  {
   "cell_type": "markdown",
   "id": "6c4299b3-7e91-440e-952b-20f4d4b454d3",
   "metadata": {},
   "source": [
    "### 1.1 How's the growth of new users that participated their first NFT transaction?\n",
    "\n",
    "related variables: `first_action_iso_date`\n",
    "\n"
   ]
  },
  {
   "cell_type": "code",
   "execution_count": 441,
   "id": "b6b8cbf7-68fa-4ee2-ac7b-84a3006dd756",
   "metadata": {},
   "outputs": [
    {
     "data": {
      "text/plain": [
       "Timedelta('48 days 22:52:38')"
      ]
     },
     "execution_count": 441,
     "metadata": {},
     "output_type": "execute_result"
    }
   ],
   "source": [
    "# Calculate the suitable bins\n",
    "df_user[\"first_action_iso_date\"].max() - df_user[\"first_action_iso_date\"].min()"
   ]
  },
  {
   "cell_type": "code",
   "execution_count": 444,
   "id": "6854fd3b-dfd9-4859-9f83-e0fb33e24efc",
   "metadata": {},
   "outputs": [
    {
     "data": {
      "image/png": "[encoded data removed]",
      "text/plain": [
       "<Figure size 1440x576 with 1 Axes>"
      ]
     },
     "metadata": {
      "needs_background": "light"
     },
     "output_type": "display_data"
    }
   ],
   "source": [
    "fig, ax = plt.subplots(figsize=(20,8)) \n",
    "number_of_bins = 49\n",
    "ax.set_xlabel('Date')\n",
    "ax.set_ylabel('Number of first transaction by new users')\n",
    "counts, edges, bars = ax.hist(df_user[\"first_action_iso_date\"], bins=number_of_bins)\n",
    "h = plt.bar_label(bars)\n",
    "#print(h)"
   ]
  },
  {
   "cell_type": "markdown",
   "id": "a3388fe4-e9ba-471e-8e4e-e5f262b7e5b2",
   "metadata": {
    "tags": []
   },
   "source": [
    "### 1.2 User tend to mint/buy how many items on this platform, plus rankings.\n",
    "\n",
    "related variables: `mint_count` `bought_count`\n",
    "\n",
    "----\n",
    "\n",
    "According to the description, both distribution of `mint_count` and `bought_count` are extreme， where most users own none and very few users own massive amount of artworks. In this case, I transferred these two **discrete variables** into **categorial variables** divided by the amount of artworks."
   ]
  },
  {
   "cell_type": "code",
   "execution_count": 262,
   "id": "6d308e33-9eec-415e-b0fa-e9a69d61e354",
   "metadata": {},
   "outputs": [
    {
     "name": "stderr",
     "output_type": "stream",
     "text": [
      "/Users/randgrant/opt/anaconda3/lib/python3.9/site-packages/numpy/lib/function_base.py:3961: RuntimeWarning: invalid value encountered in subtract\n",
      "  diff_b_a = subtract(b, a)\n"
     ]
    },
    {
     "data": {
      "text/html": [
       "<div>\n",
       "<style scoped>\n",
       "    .dataframe tbody tr th:only-of-type {\n",
       "        vertical-align: middle;\n",
       "    }\n",
       "\n",
       "    .dataframe tbody tr th {\n",
       "        vertical-align: top;\n",
       "    }\n",
       "\n",
       "    .dataframe thead th {\n",
       "        text-align: right;\n",
       "    }\n",
       "</style>\n",
       "<table border=\"1\" class=\"dataframe\">\n",
       "  <thead>\n",
       "    <tr style=\"text-align: right;\">\n",
       "      <th></th>\n",
       "      <th>count</th>\n",
       "      <th>mean</th>\n",
       "      <th>std</th>\n",
       "      <th>min</th>\n",
       "      <th>25%</th>\n",
       "      <th>50%</th>\n",
       "      <th>75%</th>\n",
       "      <th>max</th>\n",
       "    </tr>\n",
       "  </thead>\n",
       "  <tbody>\n",
       "    <tr>\n",
       "      <th>mint_count</th>\n",
       "      <td>6726.00000</td>\n",
       "      <td>300.14020</td>\n",
       "      <td>1867.99847</td>\n",
       "      <td>0.00000</td>\n",
       "      <td>0.00000</td>\n",
       "      <td>10.00000</td>\n",
       "      <td>97.75000</td>\n",
       "      <td>78480.00000</td>\n",
       "    </tr>\n",
       "    <tr>\n",
       "      <th>bought_count</th>\n",
       "      <td>6726.00000</td>\n",
       "      <td>17.37169</td>\n",
       "      <td>82.52887</td>\n",
       "      <td>0.00000</td>\n",
       "      <td>0.00000</td>\n",
       "      <td>1.00000</td>\n",
       "      <td>8.00000</td>\n",
       "      <td>4199.00000</td>\n",
       "    </tr>\n",
       "  </tbody>\n",
       "</table>\n",
       "</div>"
      ],
      "text/plain": [
       "                  count      mean        std     min     25%      50%  \\\n",
       "mint_count   6726.00000 300.14020 1867.99847 0.00000 0.00000 10.00000   \n",
       "bought_count 6726.00000  17.37169   82.52887 0.00000 0.00000  1.00000   \n",
       "\n",
       "                  75%         max  \n",
       "mint_count   97.75000 78480.00000  \n",
       "bought_count  8.00000  4199.00000  "
      ]
     },
     "execution_count": 262,
     "metadata": {},
     "output_type": "execute_result"
    }
   ],
   "source": [
    "users.describe().T.iloc[:2]"
   ]
  },
  {
   "cell_type": "markdown",
   "id": "b45bdf5e-e058-4b8a-8e97-d8c852cef793",
   "metadata": {},
   "source": [
    "#### 1.2.1 Mint Count Pie Chart"
   ]
  },
  {
   "cell_type": "code",
   "execution_count": 554,
   "id": "695a64ac-ff59-4994-9ee6-9a22fa8b874f",
   "metadata": {},
   "outputs": [],
   "source": [
    "# Creating new features, turn mint_count number into categorial number representing which interval the mint_count value belongs to. \n",
    "mint_rank_alt = mint_rank\n",
    "mint_rank_alt[\"group\"] = None\n",
    "\n",
    "for index, every_user in mint_rank_alt.iterrows():\n",
    "    mint_number = every_user[\"mint_count\"]\n",
    "    if mint_number <= 10:\n",
    "        mint_rank_alt.iloc[index] = {\"group\": 1 }\n",
    "    elif mint_number > 10 and mint_number <= 100:\n",
    "        mint_rank_alt.iloc[index] = {\"group\": 2 }\n",
    "    elif mint_number > 100 and mint_number <= 1000:\n",
    "        mint_rank_alt.iloc[index] = {\"group\": 3 }\n",
    "    elif mint_number > 1000 and mint_number <= 10000:\n",
    "        mint_rank_alt.iloc[index] = {\"group\": 4 }\n",
    "    else:\n",
    "        mint_rank_alt.iloc[index] = {\"group\": 5 }\n",
    "\n",
    "mint_rank_alt[\"group\"] = [int(i) for i in mint_rank_alt[\"group\"]]"
   ]
  },
  {
   "cell_type": "code",
   "execution_count": 496,
   "id": "54c64bc1-35d5-47f8-8d46-093fdb7177bf",
   "metadata": {},
   "outputs": [
    {
     "data": {
      "image/png": "[encoded data removed]",
      "text/plain": [
       "<Figure size 864x432 with 1 Axes>"
      ]
     },
     "metadata": {},
     "output_type": "display_data"
    }
   ],
   "source": [
    "# Code adpted from https://www.kaggle.com/code/sametardaerdogan/students-performance-eda-and-visualization/notebook\n",
    "plt.figure(figsize=(12, 6))\n",
    "labels=[\"0-10\",\"11-100\",\"101-1000\",\"1001-10000\",\">10000\"]\n",
    "plt.pie(mint_rank_alt[\"group\"].value_counts().values,\n",
    "        labels=labels,\n",
    "        labeldistance = 0.5,\n",
    "        pctdistance = 1.2,\n",
    "        rotatelabels = True,\n",
    "        textprops={'fontsize': 10},\n",
    "        startangle=90,\n",
    "        autopct='%1.1f%%',\n",
    "        colors=[\"#EC6173\", \"#F1AE4A\", \"#E1DD6E\", \"#51A350\", \"#6964FF\", \"#BD63BE\"])\n",
    "plt.title('Mint Count Pie Chart',fontsize=16,pad=40)\n",
    "plt.axis('equal')\n",
    "plt.show()"
   ]
  },
  {
   "cell_type": "markdown",
   "id": "815f9ad8-e0dc-4fe5-8683-a61796bd036e",
   "metadata": {},
   "source": [
    "#### 1.2.2 Bought Count Pie Chart"
   ]
  },
  {
   "cell_type": "code",
   "execution_count": 555,
   "id": "cb104943-dfb4-410e-bef5-160c3fb6b443",
   "metadata": {},
   "outputs": [],
   "source": [
    "bought_rank_alt = bought_rank\n",
    "bought_rank_alt[\"group\"] = None\n",
    "\n",
    "for index, every_user in bought_rank_alt.iterrows():\n",
    "    count_number = every_user[\"bought_count\"]\n",
    "    if count_number <= 0:\n",
    "        bought_rank_alt.iloc[index] = {\"group\": 1 }\n",
    "    elif count_number > 0 and count_number <= 5:\n",
    "        bought_rank_alt.iloc[index] = {\"group\": 2 }\n",
    "    elif count_number > 5 and count_number <= 10:\n",
    "        bought_rank_alt.iloc[index] = {\"group\": 3 }\n",
    "    elif count_number > 10 and count_number <= 100:\n",
    "        bought_rank_alt.iloc[index] = {\"group\": 4 }\n",
    "    elif count_number > 100 and count_number <= 1000:\n",
    "        bought_rank_alt.iloc[index] = {\"group\": 5 }\n",
    "    else:\n",
    "        bought_rank_alt.iloc[index] = {\"group\": 6 }\n",
    "\n",
    "bought_rank_alt[\"group\"] = [int(i) for i in bought_rank_alt[\"group\"]]"
   ]
  },
  {
   "cell_type": "code",
   "execution_count": 551,
   "id": "9cb54c46-3d99-4757-923d-95b507b63919",
   "metadata": {},
   "outputs": [
    {
     "data": {
      "image/png": "[encoded data removed]",
      "text/plain": [
       "<Figure size 864x432 with 1 Axes>"
      ]
     },
     "metadata": {},
     "output_type": "display_data"
    }
   ],
   "source": [
    "# Code adpted from https://www.kaggle.com/code/sametardaerdogan/students-performance-eda-and-visualization/notebook\n",
    "plt.figure(figsize=(12, 6))\n",
    "labels=[\"0\",\"1-5\",\"6-10\",\"10-100\",\"101-1000\",\">1000\"]\n",
    "plt.pie(bought_rank_alt[\"group\"].value_counts().values,\n",
    "        labels=labels, \n",
    "        labeldistance=0.5,\n",
    "        pctdistance = 1.2,\n",
    "        textprops={'fontsize': 8},\n",
    "        rotatelabels = True,\n",
    "        startangle=90, \n",
    "        autopct='%1.1f%%',\n",
    "        )\n",
    "plt.title('Bought Count Pie Chart',fontsize=16,pad=40)\n",
    "plt.axis('equal')\n",
    "plt.show()"
   ]
  },
  {
   "cell_type": "markdown",
   "id": "d59038f6-1d35-42b6-aaaf-e28d3d991744",
   "metadata": {},
   "source": [
    "#### 1.2.3 Rankings: Top mint/buy users"
   ]
  },
  {
   "cell_type": "code",
   "execution_count": 279,
   "id": "ce49ca1f-8972-4111-b966-fff288c343e4",
   "metadata": {
    "tags": []
   },
   "outputs": [
    {
     "data": {
      "text/html": [
       "<div>\n",
       "<style scoped>\n",
       "    .dataframe tbody tr th:only-of-type {\n",
       "        vertical-align: middle;\n",
       "    }\n",
       "\n",
       "    .dataframe tbody tr th {\n",
       "        vertical-align: top;\n",
       "    }\n",
       "\n",
       "    .dataframe thead th {\n",
       "        text-align: right;\n",
       "    }\n",
       "</style>\n",
       "<table border=\"1\" class=\"dataframe\">\n",
       "  <thead>\n",
       "    <tr style=\"text-align: right;\">\n",
       "      <th></th>\n",
       "      <th>mint_count</th>\n",
       "      <th>tzkt_info_name</th>\n",
       "      <th>address</th>\n",
       "      <th>bought_count</th>\n",
       "      <th>tzkt_info_name</th>\n",
       "      <th>address</th>\n",
       "    </tr>\n",
       "  </thead>\n",
       "  <tbody>\n",
       "    <tr>\n",
       "      <th>0</th>\n",
       "      <td>78480</td>\n",
       "      <td>Nick Fox-Gieg</td>\n",
       "      <td>tz1Tk4FSuhQZ8aqNaGs49NZkuKV3MSYCnDPM</td>\n",
       "      <td>4199</td>\n",
       "      <td>OWSLEYBEATS</td>\n",
       "      <td>tz1YNUNArBDYWu8evZj73HR9vE6y5FQkaj5M</td>\n",
       "    </tr>\n",
       "    <tr>\n",
       "      <th>1</th>\n",
       "      <td>38797</td>\n",
       "      <td>mimeArtist</td>\n",
       "      <td>tz1ZsNvZKUveN7FjRhMHTm9NiAUNAmrwdFKV</td>\n",
       "      <td>1662</td>\n",
       "      <td>NaN</td>\n",
       "      <td>tz1Pu8zRmNghAHzWxsT9Cy2qXHxkCrHcB3vc</td>\n",
       "    </tr>\n",
       "    <tr>\n",
       "      <th>2</th>\n",
       "      <td>32352</td>\n",
       "      <td>Sebuh Honarchian</td>\n",
       "      <td>tz1NufWtpqS3nfR8VW1xFyWq4GWqb969keeR</td>\n",
       "      <td>1407</td>\n",
       "      <td>tiegenhof</td>\n",
       "      <td>tz1bxe2Tp3EqWZqZX5Kvmg9MxTmX8LBiUchk</td>\n",
       "    </tr>\n",
       "    <tr>\n",
       "      <th>3</th>\n",
       "      <td>31970</td>\n",
       "      <td>Mr.doob</td>\n",
       "      <td>tz1UAY5RSuG6nRJhdHDVMVSg9Lt2pSZez5JR</td>\n",
       "      <td>1290</td>\n",
       "      <td>NaN</td>\n",
       "      <td>tz1QDunNSnWrqwCc78TqzHP86BMNXq1P7Jxb</td>\n",
       "    </tr>\n",
       "    <tr>\n",
       "      <th>4</th>\n",
       "      <td>30335</td>\n",
       "      <td>NaN</td>\n",
       "      <td>tz1MgDFQvyV8Vfc48HgeqMbCD2Po7nhoWDeL</td>\n",
       "      <td>1130</td>\n",
       "      <td>NaN</td>\n",
       "      <td>tz1UAYfFWmaTrQTYMptaGCw6LrXK5Yv84VnQ</td>\n",
       "    </tr>\n",
       "    <tr>\n",
       "      <th>5</th>\n",
       "      <td>30000</td>\n",
       "      <td>NaN</td>\n",
       "      <td>tz1cVHE1Rp9DBFkAkhWy8XBfvPefh9C2psFc</td>\n",
       "      <td>1040</td>\n",
       "      <td>NaN</td>\n",
       "      <td>tz1MCaehYRvrhPWv7HiCYQKyi9WDXbAUZkwv</td>\n",
       "    </tr>\n",
       "    <tr>\n",
       "      <th>6</th>\n",
       "      <td>24728</td>\n",
       "      <td>Will Geary</td>\n",
       "      <td>tz2Dmeg3NFMuKNBuw2XWufro5tnxuf37ukxB</td>\n",
       "      <td>965</td>\n",
       "      <td>Cody Bales</td>\n",
       "      <td>tz1L7oVDv58oKd6dDrRAgXMhgZbJREvmrMg9</td>\n",
       "    </tr>\n",
       "    <tr>\n",
       "      <th>7</th>\n",
       "      <td>24186</td>\n",
       "      <td>NaN</td>\n",
       "      <td>tz1XuKatiqM9nY94nUZDY6fhkVkK9nRMRMmj</td>\n",
       "      <td>857</td>\n",
       "      <td>NaN</td>\n",
       "      <td>tz1QzteR6agXmyGwrGvvXAqZmoRr75ANLHJ4</td>\n",
       "    </tr>\n",
       "    <tr>\n",
       "      <th>8</th>\n",
       "      <td>21540</td>\n",
       "      <td>Bjorn Calleja</td>\n",
       "      <td>tz2Hz4TVJZjoQVks4SfWgt38RfZTmrHmVH62</td>\n",
       "      <td>855</td>\n",
       "      <td>Cryptopolitan</td>\n",
       "      <td>tz1Rg3n8aWJfqKKb67RCgQdY7ZwpQJdJ6NPd</td>\n",
       "    </tr>\n",
       "    <tr>\n",
       "      <th>9</th>\n",
       "      <td>21012</td>\n",
       "      <td>NaN</td>\n",
       "      <td>tz1fXvCs7BqoMTZFtGAusDwHsqeJyVGQF9j7</td>\n",
       "      <td>837</td>\n",
       "      <td>NaN</td>\n",
       "      <td>tz1WAdmMAgUscdpwdfxcyhveB5BnE7wtrz3q</td>\n",
       "    </tr>\n",
       "    <tr>\n",
       "      <th>10</th>\n",
       "      <td>20999</td>\n",
       "      <td>NaN</td>\n",
       "      <td>tz1fE99znpJ8M7ix3Ve874BxR6JsQAMebb7A</td>\n",
       "      <td>768</td>\n",
       "      <td>Django Bits</td>\n",
       "      <td>tz1YRG68NdqtAcsFEwTUw6FsSsiBb5kagEDo</td>\n",
       "    </tr>\n",
       "    <tr>\n",
       "      <th>11</th>\n",
       "      <td>20247</td>\n",
       "      <td>NaN</td>\n",
       "      <td>tz1TU4NAzg7ffvXaH3vAk2HWpBSPdSF5ZVxw</td>\n",
       "      <td>734</td>\n",
       "      <td>NaN</td>\n",
       "      <td>tz1NGDuYTuuB1geX1K5b88cqa8JinFLdd3d5</td>\n",
       "    </tr>\n",
       "    <tr>\n",
       "      <th>12</th>\n",
       "      <td>20114</td>\n",
       "      <td>Javingka</td>\n",
       "      <td>tz1dP2P1iSjkE7tM7v4XXafVo84kJQEJCv2t</td>\n",
       "      <td>687</td>\n",
       "      <td>NaN</td>\n",
       "      <td>tz1gjmXcUvmAgDtasiexgfGZsKFYyQwHpzWg</td>\n",
       "    </tr>\n",
       "    <tr>\n",
       "      <th>13</th>\n",
       "      <td>20022</td>\n",
       "      <td>NaN</td>\n",
       "      <td>tz1WTb67VvXjMievFACoRZ7ABfvPkA9E9yjs</td>\n",
       "      <td>672</td>\n",
       "      <td>luluxxx</td>\n",
       "      <td>tz1Rwx6G3MFW5VCeSd4bJQphXuUR3Q56omLW</td>\n",
       "    </tr>\n",
       "    <tr>\n",
       "      <th>14</th>\n",
       "      <td>20002</td>\n",
       "      <td>Odenowe</td>\n",
       "      <td>tz1hEJqfpr3UDPujcRRt5MvXcT7Fho59wcFJ</td>\n",
       "      <td>660</td>\n",
       "      <td>NaN</td>\n",
       "      <td>tz2R1iMz3wHEx6Z8dpdPVgb9eTDVh5NdeqNz</td>\n",
       "    </tr>\n",
       "  </tbody>\n",
       "</table>\n",
       "</div>"
      ],
      "text/plain": [
       "    mint_count    tzkt_info_name                               address  \\\n",
       "0        78480     Nick Fox-Gieg  tz1Tk4FSuhQZ8aqNaGs49NZkuKV3MSYCnDPM   \n",
       "1        38797        mimeArtist  tz1ZsNvZKUveN7FjRhMHTm9NiAUNAmrwdFKV   \n",
       "2        32352  Sebuh Honarchian  tz1NufWtpqS3nfR8VW1xFyWq4GWqb969keeR   \n",
       "3        31970           Mr.doob  tz1UAY5RSuG6nRJhdHDVMVSg9Lt2pSZez5JR   \n",
       "4        30335               NaN  tz1MgDFQvyV8Vfc48HgeqMbCD2Po7nhoWDeL   \n",
       "5        30000               NaN  tz1cVHE1Rp9DBFkAkhWy8XBfvPefh9C2psFc   \n",
       "6        24728        Will Geary  tz2Dmeg3NFMuKNBuw2XWufro5tnxuf37ukxB   \n",
       "7        24186               NaN  tz1XuKatiqM9nY94nUZDY6fhkVkK9nRMRMmj   \n",
       "8        21540     Bjorn Calleja  tz2Hz4TVJZjoQVks4SfWgt38RfZTmrHmVH62   \n",
       "9        21012               NaN  tz1fXvCs7BqoMTZFtGAusDwHsqeJyVGQF9j7   \n",
       "10       20999               NaN  tz1fE99znpJ8M7ix3Ve874BxR6JsQAMebb7A   \n",
       "11       20247               NaN  tz1TU4NAzg7ffvXaH3vAk2HWpBSPdSF5ZVxw   \n",
       "12       20114          Javingka  tz1dP2P1iSjkE7tM7v4XXafVo84kJQEJCv2t   \n",
       "13       20022               NaN  tz1WTb67VvXjMievFACoRZ7ABfvPkA9E9yjs   \n",
       "14       20002           Odenowe  tz1hEJqfpr3UDPujcRRt5MvXcT7Fho59wcFJ   \n",
       "\n",
       "    bought_count tzkt_info_name                               address  \n",
       "0           4199    OWSLEYBEATS  tz1YNUNArBDYWu8evZj73HR9vE6y5FQkaj5M  \n",
       "1           1662            NaN  tz1Pu8zRmNghAHzWxsT9Cy2qXHxkCrHcB3vc  \n",
       "2           1407      tiegenhof  tz1bxe2Tp3EqWZqZX5Kvmg9MxTmX8LBiUchk  \n",
       "3           1290            NaN  tz1QDunNSnWrqwCc78TqzHP86BMNXq1P7Jxb  \n",
       "4           1130            NaN  tz1UAYfFWmaTrQTYMptaGCw6LrXK5Yv84VnQ  \n",
       "5           1040            NaN  tz1MCaehYRvrhPWv7HiCYQKyi9WDXbAUZkwv  \n",
       "6            965     Cody Bales  tz1L7oVDv58oKd6dDrRAgXMhgZbJREvmrMg9  \n",
       "7            857            NaN  tz1QzteR6agXmyGwrGvvXAqZmoRr75ANLHJ4  \n",
       "8            855  Cryptopolitan  tz1Rg3n8aWJfqKKb67RCgQdY7ZwpQJdJ6NPd  \n",
       "9            837            NaN  tz1WAdmMAgUscdpwdfxcyhveB5BnE7wtrz3q  \n",
       "10           768    Django Bits  tz1YRG68NdqtAcsFEwTUw6FsSsiBb5kagEDo  \n",
       "11           734            NaN  tz1NGDuYTuuB1geX1K5b88cqa8JinFLdd3d5  \n",
       "12           687            NaN  tz1gjmXcUvmAgDtasiexgfGZsKFYyQwHpzWg  \n",
       "13           672        luluxxx  tz1Rwx6G3MFW5VCeSd4bJQphXuUR3Q56omLW  \n",
       "14           660            NaN  tz2R1iMz3wHEx6Z8dpdPVgb9eTDVh5NdeqNz  "
      ]
     },
     "execution_count": 279,
     "metadata": {},
     "output_type": "execute_result"
    }
   ],
   "source": [
    "# sort up top X values\n",
    "top_number = 15\n",
    "mint_rank = df_user.sort_values(by = \"mint_count\", ascending = False)[[\"mint_count\",\"tzkt_info_name\",\"address\"]]\n",
    "bought_rank = df_user.sort_values(by = \"bought_count\", ascending = False)[[\"bought_count\",\"tzkt_info_name\",\"address\"]]\n",
    "\n",
    "# Concatenate these two ranking into one data frame\n",
    "mint_rank_reset = mint_rank[:top_number].reset_index().drop([\"index\"],axis =1)\n",
    "bought_rank_reset = bought_rank[:top_number].reset_index().drop([\"index\"],axis =1)\n",
    "items_rank = pd.concat([mint_rank_reset, bought_rank_reset], axis=1)\n",
    "items_rank"
   ]
  },
  {
   "cell_type": "markdown",
   "id": "e02c72eb-b012-4513-9136-03624701fe01",
   "metadata": {
    "tags": []
   },
   "source": [
    "### 1.3 User spent and earned how much money on this platform?\n",
    "\n",
    "related variables: `money_sent` `money_received`\n",
    "\n",
    "----\n",
    "\n",
    "According to the description, distribution of `money_sent` and `money_received` data are also extreme，"
   ]
  },
  {
   "cell_type": "code",
   "execution_count": 553,
   "id": "e197abca-25f2-4656-9111-13db3c63ef46",
   "metadata": {},
   "outputs": [
    {
     "name": "stderr",
     "output_type": "stream",
     "text": [
      "/Users/randgrant/opt/anaconda3/lib/python3.9/site-packages/numpy/lib/function_base.py:3961: RuntimeWarning: invalid value encountered in subtract\n",
      "  diff_b_a = subtract(b, a)\n"
     ]
    },
    {
     "data": {
      "text/html": [
       "<div>\n",
       "<style scoped>\n",
       "    .dataframe tbody tr th:only-of-type {\n",
       "        vertical-align: middle;\n",
       "    }\n",
       "\n",
       "    .dataframe tbody tr th {\n",
       "        vertical-align: top;\n",
       "    }\n",
       "\n",
       "    .dataframe thead th {\n",
       "        text-align: right;\n",
       "    }\n",
       "</style>\n",
       "<table border=\"1\" class=\"dataframe\">\n",
       "  <thead>\n",
       "    <tr style=\"text-align: right;\">\n",
       "      <th></th>\n",
       "      <th>count</th>\n",
       "      <th>mean</th>\n",
       "      <th>std</th>\n",
       "      <th>min</th>\n",
       "      <th>25%</th>\n",
       "      <th>50%</th>\n",
       "      <th>75%</th>\n",
       "      <th>max</th>\n",
       "    </tr>\n",
       "  </thead>\n",
       "  <tbody>\n",
       "    <tr>\n",
       "      <th>money_received</th>\n",
       "      <td>6726.00000</td>\n",
       "      <td>209.26210</td>\n",
       "      <td>8559.27311</td>\n",
       "      <td>0.00000</td>\n",
       "      <td>0.00000</td>\n",
       "      <td>0.00000</td>\n",
       "      <td>7.51434</td>\n",
       "      <td>685298.72912</td>\n",
       "    </tr>\n",
       "    <tr>\n",
       "      <th>money_sent</th>\n",
       "      <td>6726.00000</td>\n",
       "      <td>209.26210</td>\n",
       "      <td>8991.22562</td>\n",
       "      <td>0.00000</td>\n",
       "      <td>0.00000</td>\n",
       "      <td>0.90000</td>\n",
       "      <td>11.45000</td>\n",
       "      <td>679104.27599</td>\n",
       "    </tr>\n",
       "  </tbody>\n",
       "</table>\n",
       "</div>"
      ],
      "text/plain": [
       "                    count      mean        std     min     25%     50%  \\\n",
       "money_received 6726.00000 209.26210 8559.27311 0.00000 0.00000 0.00000   \n",
       "money_sent     6726.00000 209.26210 8991.22562 0.00000 0.00000 0.90000   \n",
       "\n",
       "                    75%          max  \n",
       "money_received  7.51434 685298.72912  \n",
       "money_sent     11.45000 679104.27599  "
      ]
     },
     "execution_count": 553,
     "metadata": {},
     "output_type": "execute_result"
    }
   ],
   "source": [
    "users.describe().T.iloc[-5:-3]"
   ]
  },
  {
   "cell_type": "markdown",
   "id": "5c55c009-c6cb-4ada-9991-f1b06b305f9a",
   "metadata": {},
   "source": [
    "#### 1.3.1 Rankings: Top spent/earned user"
   ]
  },
  {
   "cell_type": "code",
   "execution_count": 283,
   "id": "96069cec-0197-419e-b0b0-aa9b122aa5e0",
   "metadata": {},
   "outputs": [
    {
     "data": {
      "text/html": [
       "<div>\n",
       "<style scoped>\n",
       "    .dataframe tbody tr th:only-of-type {\n",
       "        vertical-align: middle;\n",
       "    }\n",
       "\n",
       "    .dataframe tbody tr th {\n",
       "        vertical-align: top;\n",
       "    }\n",
       "\n",
       "    .dataframe thead th {\n",
       "        text-align: right;\n",
       "    }\n",
       "</style>\n",
       "<table border=\"1\" class=\"dataframe\">\n",
       "  <thead>\n",
       "    <tr style=\"text-align: right;\">\n",
       "      <th></th>\n",
       "      <th>money_sent</th>\n",
       "      <th>tzkt_info_name</th>\n",
       "      <th>address</th>\n",
       "      <th>money_received</th>\n",
       "      <th>tzkt_info_name</th>\n",
       "      <th>address</th>\n",
       "    </tr>\n",
       "  </thead>\n",
       "  <tbody>\n",
       "    <tr>\n",
       "      <th>0</th>\n",
       "      <td>679104.27599</td>\n",
       "      <td>Hic et nunc Minter</td>\n",
       "      <td>KT1Hkg5qeNhfwpKW4fXvq7HGZB9z2EnmCCA9</td>\n",
       "      <td>685298.72912</td>\n",
       "      <td>Hic et nunc Minter</td>\n",
       "      <td>KT1Hkg5qeNhfwpKW4fXvq7HGZB9z2EnmCCA9</td>\n",
       "    </tr>\n",
       "    <tr>\n",
       "      <th>1</th>\n",
       "      <td>284300.00000</td>\n",
       "      <td>NaN</td>\n",
       "      <td>tz1TWji319FdKeXF6vwvZVXfrzB7JUwsgoAi</td>\n",
       "      <td>113465.62500</td>\n",
       "      <td>NaN</td>\n",
       "      <td>tz1RmuzUDF82LcS4a1NDq3vVdycTzF2Evpgi</td>\n",
       "    </tr>\n",
       "    <tr>\n",
       "      <th>2</th>\n",
       "      <td>20342.76246</td>\n",
       "      <td>NaN</td>\n",
       "      <td>tz1bhMc5uPJynkrHpw7pAiBt6YMhQktn7owF</td>\n",
       "      <td>68932.50000</td>\n",
       "      <td>NaN</td>\n",
       "      <td>tz1eRdK9wr4PZDkFMQoW2DzyxN8ZV4irmiGJ</td>\n",
       "    </tr>\n",
       "    <tr>\n",
       "      <th>3</th>\n",
       "      <td>19395.17490</td>\n",
       "      <td>NaN</td>\n",
       "      <td>tz1eee5rapGDbq2bcZYTQwNbrkB4jVSQSSHx</td>\n",
       "      <td>44362.50000</td>\n",
       "      <td>NaN</td>\n",
       "      <td>tz1XPcu86MbxHs8Djg1PG65TD4RE23a2E7vY</td>\n",
       "    </tr>\n",
       "    <tr>\n",
       "      <th>4</th>\n",
       "      <td>15698.79063</td>\n",
       "      <td>QuipuSwap hDAO</td>\n",
       "      <td>KT1V41fGzkdTJki4d11T1Rp9yPkCmDhB7jph</td>\n",
       "      <td>23887.50000</td>\n",
       "      <td>NaN</td>\n",
       "      <td>tz1cVH1jz2qjLNGaqvtm3wnYMLpPy9xQE2L6</td>\n",
       "    </tr>\n",
       "    <tr>\n",
       "      <th>5</th>\n",
       "      <td>11500.00000</td>\n",
       "      <td>NaN</td>\n",
       "      <td>tz1Uby674S4xEw8w7iuM3GEkWZ3fHeHjT696</td>\n",
       "      <td>21536.33629</td>\n",
       "      <td>QuipuSwap hDAO</td>\n",
       "      <td>KT1V41fGzkdTJki4d11T1Rp9yPkCmDhB7jph</td>\n",
       "    </tr>\n",
       "    <tr>\n",
       "      <th>6</th>\n",
       "      <td>11365.00000</td>\n",
       "      <td>NaN</td>\n",
       "      <td>tz1hn6j226SC91kqGyYaoii3cAxY6MUwsDub</td>\n",
       "      <td>19500.00000</td>\n",
       "      <td>NaN</td>\n",
       "      <td>tz2UuUoPpH51i6PTt9Bc7iBZ4ibhHUsczcwY</td>\n",
       "    </tr>\n",
       "    <tr>\n",
       "      <th>7</th>\n",
       "      <td>7252.42104</td>\n",
       "      <td>Cryptopolitan</td>\n",
       "      <td>tz1Rg3n8aWJfqKKb67RCgQdY7ZwpQJdJ6NPd</td>\n",
       "      <td>18384.43001</td>\n",
       "      <td>John Karel</td>\n",
       "      <td>tz1gqaKjfQBhUMCE6LhbkpuittRiWv5Z6w38</td>\n",
       "    </tr>\n",
       "    <tr>\n",
       "      <th>8</th>\n",
       "      <td>6602.55511</td>\n",
       "      <td>Cody Bales</td>\n",
       "      <td>tz1L7oVDv58oKd6dDrRAgXMhgZbJREvmrMg9</td>\n",
       "      <td>18235.42500</td>\n",
       "      <td>NaN</td>\n",
       "      <td>tz1bpz9S6JyBzMvJ97qPL7TeejkUiLjdkDAm</td>\n",
       "    </tr>\n",
       "    <tr>\n",
       "      <th>9</th>\n",
       "      <td>6479.34023</td>\n",
       "      <td>NaN</td>\n",
       "      <td>tz1UBZUkXpKGhYsP5KtzDNqLLchwF4uHrGjw</td>\n",
       "      <td>16979.24187</td>\n",
       "      <td>NaN</td>\n",
       "      <td>tz1UBZUkXpKGhYsP5KtzDNqLLchwF4uHrGjw</td>\n",
       "    </tr>\n",
       "    <tr>\n",
       "      <th>10</th>\n",
       "      <td>6314.85875</td>\n",
       "      <td>NaN</td>\n",
       "      <td>tz1Pu8zRmNghAHzWxsT9Cy2qXHxkCrHcB3vc</td>\n",
       "      <td>14503.12500</td>\n",
       "      <td>NaN</td>\n",
       "      <td>tz1W9KPJQQg5kXpygX7z9TSGAx2sqUFZF8Ph</td>\n",
       "    </tr>\n",
       "    <tr>\n",
       "      <th>11</th>\n",
       "      <td>5561.94900</td>\n",
       "      <td>NaN</td>\n",
       "      <td>tz1QDunNSnWrqwCc78TqzHP86BMNXq1P7Jxb</td>\n",
       "      <td>12952.12195</td>\n",
       "      <td>Mario Klingemann</td>\n",
       "      <td>tz1hb9PiWxQEf6J9xevPsUM6dkuCLnhDMvsp</td>\n",
       "    </tr>\n",
       "    <tr>\n",
       "      <th>12</th>\n",
       "      <td>5362.47243</td>\n",
       "      <td>NaN</td>\n",
       "      <td>tz2R1iMz3wHEx6Z8dpdPVgb9eTDVh5NdeqNz</td>\n",
       "      <td>11220.30000</td>\n",
       "      <td>Chris Cassano</td>\n",
       "      <td>tz1NM2GD7d8L9oYurYSy3R1Cy7ZAU1ExDyC6</td>\n",
       "    </tr>\n",
       "    <tr>\n",
       "      <th>13</th>\n",
       "      <td>5203.90444</td>\n",
       "      <td>Django Bits</td>\n",
       "      <td>tz1YRG68NdqtAcsFEwTUw6FsSsiBb5kagEDo</td>\n",
       "      <td>11088.67500</td>\n",
       "      <td>NaN</td>\n",
       "      <td>tz1QUz6xncV5VpAh68ejybhRM31iVaFmur6x</td>\n",
       "    </tr>\n",
       "    <tr>\n",
       "      <th>14</th>\n",
       "      <td>5110.45683</td>\n",
       "      <td>Mario Klingemann</td>\n",
       "      <td>tz1hb9PiWxQEf6J9xevPsUM6dkuCLnhDMvsp</td>\n",
       "      <td>9869.45800</td>\n",
       "      <td>Joanie Lemercier</td>\n",
       "      <td>tz1P5Za1TUMsDejgzMM5iMNfHAxDUpPCHiwZ</td>\n",
       "    </tr>\n",
       "  </tbody>\n",
       "</table>\n",
       "</div>"
      ],
      "text/plain": [
       "     money_sent      tzkt_info_name                               address  \\\n",
       "0  679104.27599  Hic et nunc Minter  KT1Hkg5qeNhfwpKW4fXvq7HGZB9z2EnmCCA9   \n",
       "1  284300.00000                 NaN  tz1TWji319FdKeXF6vwvZVXfrzB7JUwsgoAi   \n",
       "2   20342.76246                 NaN  tz1bhMc5uPJynkrHpw7pAiBt6YMhQktn7owF   \n",
       "3   19395.17490                 NaN  tz1eee5rapGDbq2bcZYTQwNbrkB4jVSQSSHx   \n",
       "4   15698.79063      QuipuSwap hDAO  KT1V41fGzkdTJki4d11T1Rp9yPkCmDhB7jph   \n",
       "5   11500.00000                 NaN  tz1Uby674S4xEw8w7iuM3GEkWZ3fHeHjT696   \n",
       "6   11365.00000                 NaN  tz1hn6j226SC91kqGyYaoii3cAxY6MUwsDub   \n",
       "7    7252.42104       Cryptopolitan  tz1Rg3n8aWJfqKKb67RCgQdY7ZwpQJdJ6NPd   \n",
       "8    6602.55511          Cody Bales  tz1L7oVDv58oKd6dDrRAgXMhgZbJREvmrMg9   \n",
       "9    6479.34023                 NaN  tz1UBZUkXpKGhYsP5KtzDNqLLchwF4uHrGjw   \n",
       "10   6314.85875                 NaN  tz1Pu8zRmNghAHzWxsT9Cy2qXHxkCrHcB3vc   \n",
       "11   5561.94900                 NaN  tz1QDunNSnWrqwCc78TqzHP86BMNXq1P7Jxb   \n",
       "12   5362.47243                 NaN  tz2R1iMz3wHEx6Z8dpdPVgb9eTDVh5NdeqNz   \n",
       "13   5203.90444         Django Bits  tz1YRG68NdqtAcsFEwTUw6FsSsiBb5kagEDo   \n",
       "14   5110.45683    Mario Klingemann  tz1hb9PiWxQEf6J9xevPsUM6dkuCLnhDMvsp   \n",
       "\n",
       "    money_received      tzkt_info_name                               address  \n",
       "0     685298.72912  Hic et nunc Minter  KT1Hkg5qeNhfwpKW4fXvq7HGZB9z2EnmCCA9  \n",
       "1     113465.62500                 NaN  tz1RmuzUDF82LcS4a1NDq3vVdycTzF2Evpgi  \n",
       "2      68932.50000                 NaN  tz1eRdK9wr4PZDkFMQoW2DzyxN8ZV4irmiGJ  \n",
       "3      44362.50000                 NaN  tz1XPcu86MbxHs8Djg1PG65TD4RE23a2E7vY  \n",
       "4      23887.50000                 NaN  tz1cVH1jz2qjLNGaqvtm3wnYMLpPy9xQE2L6  \n",
       "5      21536.33629      QuipuSwap hDAO  KT1V41fGzkdTJki4d11T1Rp9yPkCmDhB7jph  \n",
       "6      19500.00000                 NaN  tz2UuUoPpH51i6PTt9Bc7iBZ4ibhHUsczcwY  \n",
       "7      18384.43001          John Karel  tz1gqaKjfQBhUMCE6LhbkpuittRiWv5Z6w38  \n",
       "8      18235.42500                 NaN  tz1bpz9S6JyBzMvJ97qPL7TeejkUiLjdkDAm  \n",
       "9      16979.24187                 NaN  tz1UBZUkXpKGhYsP5KtzDNqLLchwF4uHrGjw  \n",
       "10     14503.12500                 NaN  tz1W9KPJQQg5kXpygX7z9TSGAx2sqUFZF8Ph  \n",
       "11     12952.12195    Mario Klingemann  tz1hb9PiWxQEf6J9xevPsUM6dkuCLnhDMvsp  \n",
       "12     11220.30000       Chris Cassano  tz1NM2GD7d8L9oYurYSy3R1Cy7ZAU1ExDyC6  \n",
       "13     11088.67500                 NaN  tz1QUz6xncV5VpAh68ejybhRM31iVaFmur6x  \n",
       "14      9869.45800    Joanie Lemercier  tz1P5Za1TUMsDejgzMM5iMNfHAxDUpPCHiwZ  "
      ]
     },
     "execution_count": 283,
     "metadata": {},
     "output_type": "execute_result"
    }
   ],
   "source": [
    "# sort up top X values\n",
    "top_number = 15\n",
    "sent_rank = df_user.sort_values(by = \"money_sent\", ascending = False)[[\"money_sent\",\"tzkt_info_name\",\"address\"]]\n",
    "received_rank = df_user.sort_values(by = \"money_received\", ascending = False)[[\"money_received\",\"tzkt_info_name\",\"address\"]]\n",
    "\n",
    "# Concatenate these two ranking into one data frame\n",
    "sent_rank_reset = sent_rank[:top_number].reset_index().drop([\"index\"],axis =1)\n",
    "received_rank_reset = received_rank[:top_number].reset_index().drop([\"index\"],axis =1)\n",
    "money_rank = pd.concat([sent_rank_reset, received_rank_reset], axis=1)\n",
    "money_rank"
   ]
  },
  {
   "cell_type": "markdown",
   "id": "1d4f63cd-91e0-438f-85ab-60024d232609",
   "metadata": {},
   "source": [
    "#### 1.3.2 How big is the market on hicetnunc.xyz?\n",
    "\n",
    "related variables: `money_sent` `money_received`\n",
    "\n",
    "----\n",
    "\n",
    "The market volume is more than 700,000 (US dollar?).\n",
    "\n",
    "*\"Hic et nunc Minter\" user is taken out according to the ranking table."
   ]
  },
  {
   "cell_type": "code",
   "execution_count": 393,
   "id": "1b3b0d4f-ebfd-42cc-9b5b-cee5f6d2b469",
   "metadata": {},
   "outputs": [
    {
     "name": "stdout",
     "output_type": "stream",
     "text": [
      "728392.5860299998\n",
      "722198.132896999\n"
     ]
    }
   ],
   "source": [
    "print(sent_rank.iloc[1:][\"money_sent\"].sum())\n",
    "print(received_rank.iloc[1:][\"money_received\"].sum())"
   ]
  },
  {
   "cell_type": "markdown",
   "id": "6624d403-ad2a-4f49-9574-6edd1795d3ca",
   "metadata": {
    "tags": []
   },
   "source": [
    "#### 1.3.3 Distribution of users spend and earn money\n",
    "\n",
    "related variables: `money_sent` `money_received`"
   ]
  },
  {
   "cell_type": "code",
   "execution_count": 500,
   "id": "db5a398e-9827-4657-8d94-0da072821ddb",
   "metadata": {
    "tags": []
   },
   "outputs": [
    {
     "data": {
      "text/plain": [
       "[<matplotlib.lines.Line2D at 0x7fe224ff0700>]"
      ]
     },
     "execution_count": 500,
     "metadata": {},
     "output_type": "execute_result"
    },
    {
     "data": {
      "image/png": "[encoded data removed]",
      "text/plain": [
       "<Figure size 1008x576 with 1 Axes>"
      ]
     },
     "metadata": {
      "needs_background": "light"
     },
     "output_type": "display_data"
    }
   ],
   "source": [
    "sent_plot = sent_rank.sort_values(by=\"money_sent\",ascending = True)[\"money_sent\"]\n",
    "sent_plot = sent_plot.tolist()\n",
    "\n",
    "fig, ax = plt.subplots(figsize=(14,8))\n",
    "ax.set_yscale('log')\n",
    "max_value = sent_rank[\"money_sent\"].max()\n",
    "yticks = np.logspace(0,int(np.log10(max_value))+1, 7).tolist()\n",
    "ax.set_yticks(yticks)\n",
    "ax.set_ylabel(\"Money sent by user\")\n",
    "ax.set_xlabel(\"Users\")\n",
    "ax.plot(sent_plot,\"rx\")"
   ]
  },
  {
   "cell_type": "code",
   "execution_count": 501,
   "id": "757737a6-10cf-477a-88d4-e82c50adbc22",
   "metadata": {},
   "outputs": [
    {
     "data": {
      "text/plain": [
       "[<matplotlib.lines.Line2D at 0x7fe23612c7c0>]"
      ]
     },
     "execution_count": 501,
     "metadata": {},
     "output_type": "execute_result"
    },
    {
     "data": {
      "image/png": "[encoded data removed]",
      "text/plain": [
       "<Figure size 1008x576 with 1 Axes>"
      ]
     },
     "metadata": {
      "needs_background": "light"
     },
     "output_type": "display_data"
    }
   ],
   "source": [
    "received_plot = received_rank.sort_values(by=\"money_received\",ascending = True)[\"money_received\"]\n",
    "received_plot = received_plot.tolist()\n",
    "\n",
    "fig, ax = plt.subplots(figsize=(14,8))\n",
    "ax.set_yscale('log')\n",
    "max_value = received_rank[\"money_received\"].max()\n",
    "yticks = np.logspace(0,int(np.log10(max_value))+1, 7).tolist()\n",
    "ax.set_yticks(yticks)\n",
    "ax.set_ylabel(\"Money user revceived\")\n",
    "ax.set_xlabel(\"Users\")\n",
    "\n",
    "ax.plot(received_plot,\"rx\")"
   ]
  },
  {
   "cell_type": "markdown",
   "id": "f57b5973-23e4-4ee6-98f7-e49343c3353c",
   "metadata": {
    "tags": []
   },
   "source": [
    "### 1.4 Correlation between variables\n",
    "\n",
    "----\n",
    "\n",
    "Accroding to the correlation heatmap, three pairs of variables have high Pearson's r coeffient(>0.5).\n",
    "\n",
    "* `available_count` X `mint_count`\n",
    "    * It's reasonable to have these two variable in high correlation, as part of available artworks are *\"minted\"* artworks to be sold. But we can still take advantage of this correlation to predict the percentage of artworks one owned will eventually be sold. \n",
    "\n",
    "* `author_sold_count` X `secondary_sold_count`\n",
    "    * User who had good perfomance of selling self-made artworks tend to have the ability to estimate good investments in other artworks.    \n",
    "\n",
    "* `money_received` X `money_sent`\n",
    "    * The number of earnings are highly related to the number of investment money. User tend to have a equivelant ability of selling and investing NFT artworks.\n",
    "    \n",
    "\n",
    "Summary:\n",
    "\n",
    "* We can predict how many artworks will eventually be sold.\n",
    "* People in NFT artworks market tend to have a equivelant ability of selling and investing NFT artworks."
   ]
  },
  {
   "cell_type": "code",
   "execution_count": 403,
   "id": "2a1b943d-b51b-45d4-adac-5225eeb7eb66",
   "metadata": {},
   "outputs": [
    {
     "data": {
      "image/png": "[encoded data removed]",
      "text/plain": [
       "<Figure size 1080x504 with 2 Axes>"
      ]
     },
     "metadata": {
      "needs_background": "light"
     },
     "output_type": "display_data"
    }
   ],
   "source": [
    "# Code adapted from https://www.kaggle.com/code/sametardaerdogan/students-performance-eda-and-visualization/notebook\n",
    "import seaborn as sns\n",
    "plt.figure(figsize=(15,7))\n",
    "plt.title('User Data Correlation Heatmap',color='Black',fontsize=20,pad=20)\n",
    "sns.heatmap(df_user.corr(),annot=True,linewidths=.5, cmap = \"YlGnBu\");"
   ]
  },
  {
   "cell_type": "markdown",
   "id": "a5ee0060-82aa-4796-8cbc-78f75747ba56",
   "metadata": {},
   "source": [
    "### 1.5 Prediction: People tend to successfully sell near 50% of their artworks mintted and bought on NFT artworks market.\n",
    "\n",
    "related variables: `mint_count` `bought_count` `available count` \n",
    "\n",
    "----\n",
    "\n",
    "Technically, it can be regarded that `mint_count + bought_count = available_count + author_sold_count + secondary_sold_count`. Therefore I checked two ways of correlation.\n",
    "\n",
    "**Case 1**\n",
    "\n",
    "Independent variables: `mint_count` `bought_count`\n",
    "Dependent variable: `available_count`\n",
    "\n",
    "**Case 2**\n",
    "\n",
    "Independent variable: `total_artworks_count(mint_count+bought_count)`\n",
    "Dependent variable: `available_count`"
   ]
  },
  {
   "cell_type": "markdown",
   "id": "4615e688-f53d-4969-a743-23327772ea5d",
   "metadata": {},
   "source": [
    "#### 1.5.1 Case 1\n",
    "----\n",
    "In case 1, the r2 number is near 0.66, which indicates a strong correlation."
   ]
  },
  {
   "cell_type": "code",
   "execution_count": 544,
   "id": "84987c60-9945-446f-8943-78dafe6b52b4",
   "metadata": {},
   "outputs": [
    {
     "name": "stdout",
     "output_type": "stream",
     "text": [
      "[ 0.49662589 -0.12566798] -0.6073050704268894 0.6593371558229457\n",
      "0.6593371558229457\n"
     ]
    }
   ],
   "source": [
    "from sklearn import linear_model \n",
    "from sklearn.metrics import mean_squared_error, r2_score\n",
    "x = df_user[['mint_count','bought_count']]\n",
    "y = df_user['available_count'] \n",
    "regr = linear_model.LinearRegression()\n",
    "regr.fit(x, y) \n",
    "print(regr.coef_, regr.intercept_,regr.score(x, y)) \n",
    "print(r2_score(y,regr.predict(x)))"
   ]
  },
  {
   "cell_type": "markdown",
   "id": "c8b79067-e01e-48a3-ac01-cf0e80c03d79",
   "metadata": {},
   "source": [
    "#### 1.5.2 Case 2\n",
    "----\n",
    "In case 2, the r2 number is even higher than the one in case 1, which is around 0.81."
   ]
  },
  {
   "cell_type": "code",
   "execution_count": 546,
   "id": "5231cf9f-68dc-4304-914d-c2aa6bc8da2f",
   "metadata": {},
   "outputs": [
    {
     "name": "stdout",
     "output_type": "stream",
     "text": [
      "0.49379675973245873 -10.519321012971005 0.8107623640212174 0.0\n"
     ]
    }
   ],
   "source": [
    "df_user[\"total_artworks_count\"] = df_user[\"mint_count\"] + df_user[\"bought_count\"]\n",
    "x = df_user[\"total_artworks_count\"] \n",
    "y = df_user['available_count'] \n",
    "slope, intercept, r, p, std_err = stats.linregress(x, y)\n",
    "print(slope, intercept ,r, p)"
   ]
  },
  {
   "cell_type": "markdown",
   "id": "c4e6992c-483b-4a30-8efa-5308f6ec025e",
   "metadata": {},
   "source": [
    "**Case 2 plotted in log scale**"
   ]
  },
  {
   "cell_type": "code",
   "execution_count": 549,
   "id": "2b88bcee-2636-48cd-87d7-ef51ad4b3703",
   "metadata": {},
   "outputs": [
    {
     "data": {
      "image/png": "[encoded data removed]",
      "text/plain": [
       "<Figure size 864x432 with 1 Axes>"
      ]
     },
     "metadata": {
      "needs_background": "light"
     },
     "output_type": "display_data"
    }
   ],
   "source": [
    "# Code adapted from intro-to-ds-week-4.ipynb\n",
    "data = df_user[[\"total_artworks_count\",\"available_count\"]].values\n",
    "x = data[:,0]\n",
    "y = data[:,1]\n",
    "\n",
    "def plot_scatter(x,y,xlabel,ylabel):\n",
    "    fig,ax = plt.subplots(figsize = (12,6))\n",
    "    ax.scatter(x,y)\n",
    "    ax.set_ylabel(ylabel)\n",
    "    ax.set_xlabel(xlabel)\n",
    "    ax.ticklabel_format(style='plain')\n",
    "    return ax\n",
    "ax = plot_scatter(x,y,\"Total artworks owned(Logarithm)\",\"Available artworks (Logarithm)\")\n",
    "ax.set_yscale('log')\n",
    "ax.set_xscale('log')"
   ]
  },
  {
   "cell_type": "markdown",
   "id": "50894a8c-0aca-462e-af56-4d9675a45506",
   "metadata": {},
   "source": [
    "**Case 2 plotted with linear regression model**"
   ]
  },
  {
   "cell_type": "code",
   "execution_count": 550,
   "id": "4e0dba5b-fbd1-47f0-9042-3b8fe1d36485",
   "metadata": {},
   "outputs": [
    {
     "data": {
      "text/plain": [
       "[<matplotlib.lines.Line2D at 0x7fe213b80910>]"
      ]
     },
     "execution_count": 550,
     "metadata": {},
     "output_type": "execute_result"
    },
    {
     "data": {
      "image/png": "[encoded data removed]",
      "text/plain": [
       "<Figure size 864x432 with 1 Axes>"
      ]
     },
     "metadata": {
      "needs_background": "light"
     },
     "output_type": "display_data"
    }
   ],
   "source": [
    "data = df_user[[\"total_artworks_count\",\"available_count\"]].values\n",
    "x = data[:,0]\n",
    "y = data[:,1]\n",
    "slope = np.float32(slope)\n",
    "model_y = [slope * i + intercept for i in x]\n",
    "\n",
    "ax = plot_scatter(x,y,\"Total artworks owned\",\"Available artworks\")\n",
    "ax.plot(x, model_y)"
   ]
  },
  {
   "cell_type": "markdown",
   "id": "4a375aa3-93fe-4105-afe0-b5a7aa6f2a1a",
   "metadata": {},
   "source": [
    "We may assume the second case to be more suitable for prediction as the r2 value is higher.\n",
    "\n",
    "Interpretation of model:\n",
    "\n",
    "`Available Artworks = 0.493 * (Mintted Artworks + Bought Artworks) - 10.519 + Error`"
   ]
  }
 ],
 "metadata": {
  "kernelspec": {
   "display_name": "Python 3 (ipykernel)",
   "language": "python",
   "name": "python3"
  },
  "language_info": {
   "codemirror_mode": {
    "name": "ipython",
    "version": 3
   },
   "file_extension": ".py",
   "mimetype": "text/x-python",
   "name": "python",
   "nbconvert_exporter": "python",
   "pygments_lexer": "ipython3",
   "version": "3.9.7"
  }
 },
 "nbformat": 4,
 "nbformat_minor": 5
}
